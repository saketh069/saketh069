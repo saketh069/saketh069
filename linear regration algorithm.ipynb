{
 "cells": [
  {
   "cell_type": "code",
   "execution_count": 3,
   "id": "89675c85",
   "metadata": {},
   "outputs": [],
   "source": [
    "import numpy as np\n",
    "import pandas as pd\n",
    "import matplotlib.pyplot as plt\n"
   ]
  },
  {
   "cell_type": "code",
   "execution_count": 4,
   "id": "59456be5",
   "metadata": {},
   "outputs": [
    {
     "data": {
      "text/html": [
       "<div>\n",
       "<style scoped>\n",
       "    .dataframe tbody tr th:only-of-type {\n",
       "        vertical-align: middle;\n",
       "    }\n",
       "\n",
       "    .dataframe tbody tr th {\n",
       "        vertical-align: top;\n",
       "    }\n",
       "\n",
       "    .dataframe thead th {\n",
       "        text-align: right;\n",
       "    }\n",
       "</style>\n",
       "<table border=\"1\" class=\"dataframe\">\n",
       "  <thead>\n",
       "    <tr style=\"text-align: right;\">\n",
       "      <th></th>\n",
       "      <th>X</th>\n",
       "      <th>Y</th>\n",
       "    </tr>\n",
       "  </thead>\n",
       "  <tbody>\n",
       "    <tr>\n",
       "      <th>0</th>\n",
       "      <td>1</td>\n",
       "      <td>1.5</td>\n",
       "    </tr>\n",
       "    <tr>\n",
       "      <th>1</th>\n",
       "      <td>2</td>\n",
       "      <td>3.8</td>\n",
       "    </tr>\n",
       "    <tr>\n",
       "      <th>2</th>\n",
       "      <td>3</td>\n",
       "      <td>6.7</td>\n",
       "    </tr>\n",
       "    <tr>\n",
       "      <th>3</th>\n",
       "      <td>4</td>\n",
       "      <td>9.0</td>\n",
       "    </tr>\n",
       "    <tr>\n",
       "      <th>4</th>\n",
       "      <td>5</td>\n",
       "      <td>11.2</td>\n",
       "    </tr>\n",
       "    <tr>\n",
       "      <th>5</th>\n",
       "      <td>6</td>\n",
       "      <td>13.6</td>\n",
       "    </tr>\n",
       "    <tr>\n",
       "      <th>6</th>\n",
       "      <td>7</td>\n",
       "      <td>16.0</td>\n",
       "    </tr>\n",
       "  </tbody>\n",
       "</table>\n",
       "</div>"
      ],
      "text/plain": [
       "   X     Y\n",
       "0  1   1.5\n",
       "1  2   3.8\n",
       "2  3   6.7\n",
       "3  4   9.0\n",
       "4  5  11.2\n",
       "5  6  13.6\n",
       "6  7  16.0"
      ]
     },
     "execution_count": 4,
     "metadata": {},
     "output_type": "execute_result"
    }
   ],
   "source": [
    "data={\n",
    "    'X':np.arange(1,8),\n",
    "    'Y':np.array([1.5,3.8,6.7,9.0,11.2,13.6,16])\n",
    "}\n",
    "\n",
    "dataframe=pd.DataFrame(data=data, index=None)\n",
    "dataframe"
   ]
  },
  {
   "cell_type": "code",
   "execution_count": 13,
   "id": "a2041f13",
   "metadata": {},
   "outputs": [
    {
     "data": {
      "text/html": [
       "<div>\n",
       "<style scoped>\n",
       "    .dataframe tbody tr th:only-of-type {\n",
       "        vertical-align: middle;\n",
       "    }\n",
       "\n",
       "    .dataframe tbody tr th {\n",
       "        vertical-align: top;\n",
       "    }\n",
       "\n",
       "    .dataframe thead th {\n",
       "        text-align: right;\n",
       "    }\n",
       "</style>\n",
       "<table border=\"1\" class=\"dataframe\">\n",
       "  <thead>\n",
       "    <tr style=\"text-align: right;\">\n",
       "      <th></th>\n",
       "      <th>X</th>\n",
       "      <th>Y</th>\n",
       "      <th>XY</th>\n",
       "      <th>X2</th>\n",
       "    </tr>\n",
       "  </thead>\n",
       "  <tbody>\n",
       "    <tr>\n",
       "      <th>0</th>\n",
       "      <td>1</td>\n",
       "      <td>1.5</td>\n",
       "      <td>1.5</td>\n",
       "      <td>1</td>\n",
       "    </tr>\n",
       "    <tr>\n",
       "      <th>1</th>\n",
       "      <td>2</td>\n",
       "      <td>3.8</td>\n",
       "      <td>7.6</td>\n",
       "      <td>4</td>\n",
       "    </tr>\n",
       "    <tr>\n",
       "      <th>2</th>\n",
       "      <td>3</td>\n",
       "      <td>6.7</td>\n",
       "      <td>20.1</td>\n",
       "      <td>9</td>\n",
       "    </tr>\n",
       "    <tr>\n",
       "      <th>3</th>\n",
       "      <td>4</td>\n",
       "      <td>9.0</td>\n",
       "      <td>36.0</td>\n",
       "      <td>16</td>\n",
       "    </tr>\n",
       "    <tr>\n",
       "      <th>4</th>\n",
       "      <td>5</td>\n",
       "      <td>11.2</td>\n",
       "      <td>56.0</td>\n",
       "      <td>25</td>\n",
       "    </tr>\n",
       "    <tr>\n",
       "      <th>5</th>\n",
       "      <td>6</td>\n",
       "      <td>13.6</td>\n",
       "      <td>81.6</td>\n",
       "      <td>36</td>\n",
       "    </tr>\n",
       "    <tr>\n",
       "      <th>6</th>\n",
       "      <td>7</td>\n",
       "      <td>16.0</td>\n",
       "      <td>112.0</td>\n",
       "      <td>49</td>\n",
       "    </tr>\n",
       "  </tbody>\n",
       "</table>\n",
       "</div>"
      ],
      "text/plain": [
       "   X     Y     XY  X2\n",
       "0  1   1.5    1.5   1\n",
       "1  2   3.8    7.6   4\n",
       "2  3   6.7   20.1   9\n",
       "3  4   9.0   36.0  16\n",
       "4  5  11.2   56.0  25\n",
       "5  6  13.6   81.6  36\n",
       "6  7  16.0  112.0  49"
      ]
     },
     "execution_count": 13,
     "metadata": {},
     "output_type": "execute_result"
    }
   ],
   "source": [
    "dataframe['XY']=dataframe['X']*dataframe['Y']\n",
    "dataframe['X2']=dataframe['X']**2\n",
    "dataframe"
   ]
  },
  {
   "cell_type": "code",
   "execution_count": 14,
   "id": "fd58bcbd",
   "metadata": {},
   "outputs": [],
   "source": [
    "sum_x, sum_y, sum_xy, sum_x2 = dataframe.sum()"
   ]
  },
  {
   "cell_type": "code",
   "execution_count": 15,
   "id": "4f39cefb",
   "metadata": {},
   "outputs": [
    {
     "data": {
      "text/plain": [
       "X      28.0\n",
       "Y      61.8\n",
       "XY    314.8\n",
       "X2    140.0\n",
       "dtype: float64"
      ]
     },
     "execution_count": 15,
     "metadata": {},
     "output_type": "execute_result"
    }
   ],
   "source": [
    "dataframe.sum()"
   ]
  },
  {
   "cell_type": "code",
   "execution_count": 22,
   "id": "a96e2d1d",
   "metadata": {},
   "outputs": [
    {
     "data": {
      "text/plain": [
       "784.0"
      ]
     },
     "execution_count": 22,
     "metadata": {},
     "output_type": "execute_result"
    }
   ],
   "source": [
    "n=len(dataframe)\n",
    "sum_x_2=sum_x**2\n",
    "sum_x_2"
   ]
  },
  {
   "cell_type": "markdown",
   "id": "46680d77",
   "metadata": {},
   "source": [
    "sum_x, sum_y, sum_xy, sum_x2, n, sum_x_2"
   ]
  },
  {
   "cell_type": "markdown",
   "id": "dae7f5f7",
   "metadata": {},
   "source": [
    "$$m=\\frac{n\\sum_{XY}-{\\sum_{X}{\\sum_{Y}^{}}^{}}^{}}{n{\\sum_{X}2\n",
    "-\\left( \\sum_{X}^{} \\right){2}}}$$\n"
   ]
  },
  {
   "cell_type": "code",
   "execution_count": 17,
   "id": "a30355d8",
   "metadata": {},
   "outputs": [],
   "source": [
    "numerator=(n*(sum_xy))-(sum_x * sum_y)\n",
    "denominator=(n*(sum_x2)-(sum_x_2))"
   ]
  },
  {
   "cell_type": "code",
   "execution_count": 27,
   "id": "d55146bb",
   "metadata": {},
   "outputs": [
    {
     "data": {
      "text/plain": [
       "2.4142857142857133"
      ]
     },
     "execution_count": 27,
     "metadata": {},
     "output_type": "execute_result"
    }
   ],
   "source": [
    "m=numerator/denominator\n",
    "m"
   ]
  },
  {
   "cell_type": "markdown",
   "id": "9883f3ac",
   "metadata": {},
   "source": [
    "$$c=\\frac{\\sum_{}Y-m*{\\sum_{}X^{}}^{}}{n}$$"
   ]
  },
  {
   "cell_type": "markdown",
   "id": "7b8e1fb6",
   "metadata": {},
   "source": []
  },
  {
   "cell_type": "code",
   "execution_count": 28,
   "id": "295dce31",
   "metadata": {},
   "outputs": [
    {
     "data": {
      "text/plain": [
       "-0.8285714285714231"
      ]
     },
     "execution_count": 28,
     "metadata": {},
     "output_type": "execute_result"
    }
   ],
   "source": [
    "numerator= sum_y-(m*(sum_x))\n",
    "denominator=n\n",
    "c=numerator/denominator\n",
    "c"
   ]
  },
  {
   "cell_type": "markdown",
   "id": "11e6db16",
   "metadata": {},
   "source": [
    "$$y_{pred}=mX+c$$"
   ]
  },
  {
   "cell_type": "code",
   "execution_count": 29,
   "id": "b03b2cbf",
   "metadata": {
    "scrolled": true
   },
   "outputs": [
    {
     "data": {
      "text/plain": [
       "array([ 1.58571429,  4.        ,  6.41428571,  8.82857143, 11.24285714,\n",
       "       13.65714286, 16.07142857])"
      ]
     },
     "execution_count": 29,
     "metadata": {},
     "output_type": "execute_result"
    }
   ],
   "source": [
    "y_pred=np.array([(m*X+c)for X in range(1,8)])\n",
    "y_pred"
   ]
  },
  {
   "cell_type": "code",
   "execution_count": 30,
   "id": "7e4946b5",
   "metadata": {},
   "outputs": [
    {
     "data": {
      "text/plain": [
       "array([ 1.5,  3.8,  6.7,  9. , 11.2, 13.6, 16. ])"
      ]
     },
     "execution_count": 30,
     "metadata": {},
     "output_type": "execute_result"
    }
   ],
   "source": [
    "y_orig=dataframe['Y'].values\n",
    "y_orig"
   ]
  },
  {
   "cell_type": "code",
   "execution_count": 32,
   "id": "ddd16a9d",
   "metadata": {},
   "outputs": [
    {
     "data": {
      "text/plain": [
       "Text(0, 0.5, 'Y')"
      ]
     },
     "execution_count": 32,
     "metadata": {},
     "output_type": "execute_result"
    },
    {
     "data": {
      "image/png": "[encoded data removed]",
      "text/plain": [
       "<Figure size 432x288 with 1 Axes>"
      ]
     },
     "metadata": {
      "needs_background": "light"
     },
     "output_type": "display_data"
    }
   ],
   "source": [
    "plt.scatter(list(range(1,8)),y_orig)\n",
    "plt.plot(list(range(1,8)),y_orig,c='r')\n",
    "plt.xlabel(\"x\")\n",
    "plt.ylabel(\"Y\")"
   ]
  },
  {
   "cell_type": "markdown",
   "id": "65fbea7d",
   "metadata": {},
   "source": [
    "$$Error=\\sum_{}(Y_{orig}-Y_{pred})^2{}$$"
   ]
  },
  {
   "cell_type": "code",
   "execution_count": 121,
   "id": "90c134fc",
   "metadata": {},
   "outputs": [
    {
     "data": {
      "text/plain": [
       "0.16857142857142873"
      ]
     },
     "execution_count": 121,
     "metadata": {},
     "output_type": "execute_result"
    }
   ],
   "source": [
    "Error=0\n",
    "\n",
    "for y_org, y_pr in zip(y_orig, y_pred):\n",
    "    \n",
    "    Error +=(y_org-y_pr)**2\n",
    "Error"
   ]
  },
  {
   "cell_type": "code",
   "execution_count": 123,
   "id": "33c0927c",
   "metadata": {},
   "outputs": [
    {
     "data": {
      "text/plain": [
       "0.16857142857142873"
      ]
     },
     "execution_count": 123,
     "metadata": {},
     "output_type": "execute_result"
    }
   ],
   "source": [
    "##### OR ####\n",
    "Error= sum([(y_org-y_pr)**2 for y_org, y_pr in zip(y_orig, y_pred)])\n",
    "Error"
   ]
  },
  {
   "cell_type": "code",
   "execution_count": null,
   "id": "6f1dde91",
   "metadata": {},
   "outputs": [],
   "source": []
  }
 ],
 "metadata": {
  "kernelspec": {
   "display_name": "Python 3",
   "language": "python",
   "name": "python3"
  },
  "language_info": {
   "codemirror_mode": {
    "name": "ipython",
    "version": 3
   },
   "file_extension": ".py",
   "mimetype": "text/x-python",
   "name": "python",
   "nbconvert_exporter": "python",
   "pygments_lexer": "ipython3",
   "version": "3.8.8"
  }
 },
 "nbformat": 4,
 "nbformat_minor": 5
}
